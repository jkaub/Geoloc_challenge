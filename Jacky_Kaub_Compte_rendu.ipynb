{
 "cells": [
  {
   "cell_type": "markdown",
   "metadata": {},
   "source": [
    "# Projet IoT\n",
    "\n",
    "## Nom : Kaub\n",
    "## Prenom : Jacky\n",
    "## Mail : jacky.kaub@telecom-paristech.fr"
   ]
  },
  {
   "cell_type": "markdown",
   "metadata": {},
   "source": [
    "# Import des fonctions utiles\n",
    "\n",
    "Ci-dessous, quelques fonctions que j'ai codé qui m'ont servi pour le projet"
   ]
  },
  {
   "cell_type": "code",
   "execution_count": 1,
   "metadata": {},
   "outputs": [],
   "source": [
    "%matplotlib inline\n",
    "import numpy as np\n",
    "import pandas as pd\n",
    "import matplotlib.pyplot as plt\n",
    "import matplotlib.pylab as pl\n",
    "from geopy.distance import vincenty\n",
    "import seaborn as sns\n",
    "import random\n",
    "\n",
    "def filter_by_nbs(df):\n",
    "    \n",
    "    \"\"\"return a dict of messages associated with the number of borns that saw it\"\"\"\n",
    "    u=df_mess_train.groupby(\"messid\").count()\n",
    "    L = u.index\n",
    "    num = [u['bsid'][l] for l in L]\n",
    "    x=[(a[0],a[1]) for a in zip(L,num)]\n",
    "    x.sort(key=lambda x:x[1],reverse=True)\n",
    "    return x\n",
    "\n",
    "def dist(lat1,lat2,lng1,lng2):\n",
    "    \"\"\"Calcul de la distance pour un point donnée, connaissant les lats et lng\n",
    "    lat1/lat2/lng1/lng2 : float\n",
    "    \"\"\"\n",
    "    #On calcul la distance entre chaque point du mesh et chaque station\n",
    "    a=(np.sin((lat1-lat2)/2*np.pi/180)**2\n",
    "    +np.cos(lat1*np.pi/180)\n",
    "   *np.cos(lat2*np.pi/180)\n",
    "   *(np.sin((lng1-lng2)/2*np.pi/180))**2)\n",
    "\n",
    "    c=2*np.arctan2(np.sqrt(a),np.sqrt(1-a))\n",
    "    return 6371*c\n",
    "\n",
    "def rescale_all_rssi(X):\n",
    "    for did in list_of_did:\n",
    "        rescale_rssi_by_did(X,did)\n",
    "        \n",
    "        \n",
    "def plot_distrib(df, dist, rssi, lenx=5,leny=10,shade=True,adj=1):\n",
    "    \"\"\"Renvoie la distribution des données\n",
    "    \n",
    "    lenx = taille de la maille en abscisse pour les probas\n",
    "    leny = taille de la maille en ordonnée pour les probas\"\"\"\n",
    "    \n",
    "    \n",
    "    #paramètres du maillage\n",
    "    if shade==True:\n",
    "        xini = df[dist].min() \n",
    "        xmax = df[dist].max()\n",
    "        yini = df[rssi].min()\n",
    "        ymax = df[rssi].max()\n",
    "        deltx = (xmax-xini)/lenx\n",
    "        delty = (ymax-yini)/leny\n",
    "\n",
    "        for i in range(lenx):\n",
    "            for j in range(leny):\n",
    "                df_w=df[(df[dist]>=xini+i*deltx) & (df[dist]<xini+(i+1)*deltx)].copy()\n",
    "                df_w=df_w[(df_w[rssi]>=yini+j*delty) & (df_w[\"rssi\"]<yini+(j+1)*delty)]\n",
    "                sh = len(df_w)/len(df)*adj\n",
    "                c = pl.cm.hot(sh)\n",
    "                plt.scatter(df_w[dist],df_w[rssi],c=c)\n",
    "        plt.title(f\"{rssi} en fonction de {dist}\")\n",
    "        plt.xlabel(dist)\n",
    "        plt.ylabel(rssi)\n",
    "    else:\n",
    "        plt.scatter(df[dist],df[rssi],c=\"r\")\n",
    "        \n",
    "def plot_circle(Xc,Yc,r,mesh = 10):\n",
    "    Xr = np.array(range(11))/10*np.pi*2\n",
    "    plt.plot(Xc+np.cos(Xr)*r/100,Yc+np.sin(Xr)*r/80)\n"
   ]
  },
  {
   "cell_type": "markdown",
   "metadata": {},
   "source": [
    "# Introduction"
   ]
  },
  {
   "cell_type": "markdown",
   "metadata": {},
   "source": [
    "Le but de ce TP est de prédire avec un maximum de précision les coordonnées (LAT et LNG) d'un device électronique (DID) à un instant donnée lorsqu'il emet un message (MESSID). \n",
    "\n",
    "Ces messages sont captés par les stations relais (BS). Ces stations, dont nous connaissons les coordonnées (BSLAT/BSLNG) captent également la puissance des messages (RSSI), ainsi qu'un numéro de séquence (NSEQ).\n",
    "\n",
    "Il est théoriquement possible de remonté à la distance entre le DID et la BSID en connaissant le RSSI et remonter à la position du DID par triangularisation. Néanmoins, la mesure du RSSI est très peu précise est beaucoup d'éléments peuvent interférer sur la puissance de réception au niveau du récepteur (BS) (par exemple : obstacle sur la route, conditions météos, qualité du capteur inférieur, etc...).\n",
    "\n",
    "Nous allons essayer d'exploiter les informations à notre disposition afin de faire la meilleure prédiction possible.\n",
    "\n",
    "Toutes les fonctions utilisés dans ce TP sont stockés dans un fichier .py annexe."
   ]
  },
  {
   "cell_type": "markdown",
   "metadata": {},
   "source": [
    "# Chargement des données / Exploration des données"
   ]
  },
  {
   "cell_type": "markdown",
   "metadata": {},
   "source": [
    "### Exploration global "
   ]
  },
  {
   "cell_type": "code",
   "execution_count": 2,
   "metadata": {},
   "outputs": [
    {
     "name": "stdout",
     "output_type": "stream",
     "text": [
      "Nombres d'entrées dans mess_train_list : 39250\n",
      "Nombres d'entrées dans mess_test_list : 29286\n",
      "\n",
      "\n",
      "Nombres de messages uniques dans mess_train_list : 6068\n",
      "Nombres de messages uniques dans mess_test_list : 5294\n",
      "\n",
      "--------------------------------------------\n",
      "                     messid  bsid       did  nseq   rssi       time_ux  \\\n",
      "0  573bf1d9864fce1a9af8c5c9  2841  473335.0   0.5 -121.5  1.463546e+12   \n",
      "1  573bf1d9864fce1a9af8c5c9  3526  473335.0   2.0 -125.0  1.463546e+12   \n",
      "2  573bf3533e952e19126b256a  2605  473335.0   1.0 -134.0  1.463547e+12   \n",
      "3  573c0cd0f0fe6e735a699b93  2610  473953.0   2.0 -132.0  1.463553e+12   \n",
      "4  573c0cd0f0fe6e735a699b93  3574  473953.0   1.0 -120.0  1.463553e+12   \n",
      "\n",
      "      bs_lat      bs_lng  \n",
      "0  39.617794 -104.954917  \n",
      "1  39.677251 -104.952721  \n",
      "2  39.612745 -105.008827  \n",
      "3  39.797969 -105.073460  \n",
      "4  39.723151 -104.956216  \n",
      "\n",
      "--------------------------------------------\n",
      "         lat         lng\n",
      "0  39.606690 -104.958490\n",
      "1  39.606690 -104.958490\n",
      "2  39.637741 -104.958554\n",
      "3  39.730417 -104.968940\n",
      "4  39.730417 -104.968940\n"
     ]
    }
   ],
   "source": [
    "df_mess_train = pd.read_csv('mess_train_list.csv') # train set\n",
    "df_mess_test = pd.read_csv('mess_test_list.csv') # test set\n",
    "pos_train = pd.read_csv('pos_train_list.csv') # position associated to train set\n",
    "\n",
    "print(f\"Nombres d'entrées dans mess_train_list : {len(df_mess_train)}\")\n",
    "print(f\"Nombres d'entrées dans mess_test_list : {len(df_mess_test)}\")\n",
    "print('\\n')\n",
    "print(f\"Nombres de messages uniques dans mess_train_list : {len(df_mess_train.messid.unique())}\")\n",
    "print(f\"Nombres de messages uniques dans mess_test_list : {len(df_mess_test.messid.unique())}\")\n",
    "print('\\n--------------------------------------------')\n",
    "print(df_mess_train.head())\n",
    "print('\\n--------------------------------------------')\n",
    "print(pos_train.head())"
   ]
  },
  {
   "cell_type": "markdown",
   "metadata": {},
   "source": [
    "Les datas sont donc stockés dans mess_train_list, et les variables à prédire dans pos_train.\n",
    "\n",
    "Chaque ligne de  mess_train_list correspond à un couple (MESSID / BSID) et plusieurs lignes peuvent avoir le même MESSID. C'est logique car un message émis peut être capté par plusieurs stations BSID avec une puissance RSSI différente. C'est cette information que nous essayerons de mettre le plus en valeur par la suite.\n",
    "\n",
    "Chaque ligne de pos_train correspond à la ligne équivalente dans mess_train_list."
   ]
  },
  {
   "cell_type": "markdown",
   "metadata": {},
   "source": [
    "### Différences entre train et test sets "
   ]
  },
  {
   "cell_type": "markdown",
   "metadata": {},
   "source": [
    "##### Différences sur les BS"
   ]
  },
  {
   "cell_type": "code",
   "execution_count": 3,
   "metadata": {},
   "outputs": [
    {
     "name": "stdout",
     "output_type": "stream",
     "text": [
      "nombre de bsid dans le set1 : 251\n",
      "nombre de bsid dans le set2 : 168\n",
      "il y a 8 BS uniques dans le set train sur 168\n"
     ]
    }
   ],
   "source": [
    "set1 = set(df_mess_train[\"bsid\"].unique())\n",
    "set2 = set(df_mess_test[\"bsid\"].unique())\n",
    "\n",
    "print(f\"nombre de bsid dans le set1 : {len(set1)}\")\n",
    "print(f\"nombre de bsid dans le set2 : {len(set2)}\")\n",
    "\n",
    "sameset = set2.intersection(set1)\n",
    "print(f\"il y a {len(set2)-len(sameset)} BS uniques dans le set train sur {len(set2)}\")"
   ]
  },
  {
   "cell_type": "markdown",
   "metadata": {},
   "source": [
    "Globalement, il y a seulement 8 BS dans le test set qui n'apparaissent pas dans le train set (moins de 5% des BS du test set). Nous pouvons donc raisonnablement faire du feature engineering sur les BS du train set en se basant sur toutes les informations à disposition (incluant 'lat'/'lng') afin de raffiner les informations à disposition lorsque l'on fera nos prédictions sur le test set"
   ]
  },
  {
   "cell_type": "markdown",
   "metadata": {},
   "source": [
    "##### Différences sur les DID# "
   ]
  },
  {
   "cell_type": "code",
   "execution_count": 4,
   "metadata": {},
   "outputs": [
    {
     "name": "stdout",
     "output_type": "stream",
     "text": [
      "nombre de DEVICES dans le set1 : 113\n",
      "nombre de DEVICES dans le set2 : 56\n",
      "il y a 56 DEVICES uniques dans le set train sur 56\n"
     ]
    }
   ],
   "source": [
    "set1 = set(df_mess_train[\"did\"].unique())\n",
    "set2 = set(df_mess_test[\"did\"].unique())\n",
    "\n",
    "print(f\"nombre de DEVICES dans le set1 : {len(set1)}\")\n",
    "print(f\"nombre de DEVICES dans le set2 : {len(set2)}\")\n",
    "\n",
    "sameset = set2.intersection(set1)\n",
    "print(f\"il y a {len(set2)-len(sameset)} DEVICES uniques dans le set train sur {len(set2)}\")"
   ]
  },
  {
   "cell_type": "markdown",
   "metadata": {},
   "source": [
    "On voit en revanche qu'aucun DID du test set n'est présent dans le train set. Cela va avoir deux impacts pour nous :\n",
    "- Il faudra faire attention au feature engineering que l'on va faire sur DID afin de ne pas biaiser le train set.\n",
    "- Lors de nos cross-validations, on prendra soin d'avoir un validation set avec des devices différents de celui du train set pour avoir un résultat similaire à ce que l'on pourra avoir sur le test set."
   ]
  },
  {
   "cell_type": "markdown",
   "metadata": {},
   "source": [
    "### Exploration des données train"
   ]
  },
  {
   "cell_type": "markdown",
   "metadata": {},
   "source": [
    "Par commodité, on merge les variables à prédire de \"pos_train\" et les variables explicatives dans un seul et même dataset.\n",
    "\n",
    "De même, on peut convertir \"time_ux\" dans un format plus lisible et ajouté une colonne \"distance_bs_mess\" calculé en fonction des coordonnées des BS et des MESSID pour chaque ligne du dataset.\n",
    "\n",
    "Les distances sont exprimées en mètres et arrondis au mètre près."
   ]
  },
  {
   "cell_type": "code",
   "execution_count": 5,
   "metadata": {},
   "outputs": [
    {
     "data": {
      "text/html": [
       "<div>\n",
       "<style scoped>\n",
       "    .dataframe tbody tr th:only-of-type {\n",
       "        vertical-align: middle;\n",
       "    }\n",
       "\n",
       "    .dataframe tbody tr th {\n",
       "        vertical-align: top;\n",
       "    }\n",
       "\n",
       "    .dataframe thead th {\n",
       "        text-align: right;\n",
       "    }\n",
       "</style>\n",
       "<table border=\"1\" class=\"dataframe\">\n",
       "  <thead>\n",
       "    <tr style=\"text-align: right;\">\n",
       "      <th></th>\n",
       "      <th>messid</th>\n",
       "      <th>bsid</th>\n",
       "      <th>did</th>\n",
       "      <th>nseq</th>\n",
       "      <th>rssi</th>\n",
       "      <th>time_ux</th>\n",
       "      <th>bs_lat</th>\n",
       "      <th>bs_lng</th>\n",
       "      <th>lat</th>\n",
       "      <th>lng</th>\n",
       "      <th>distance_bs_mess</th>\n",
       "    </tr>\n",
       "  </thead>\n",
       "  <tbody>\n",
       "    <tr>\n",
       "      <th>0</th>\n",
       "      <td>573bf1d9864fce1a9af8c5c9</td>\n",
       "      <td>2841</td>\n",
       "      <td>473335.0</td>\n",
       "      <td>0.5</td>\n",
       "      <td>-121.5</td>\n",
       "      <td>2016-05-18 04:38:49</td>\n",
       "      <td>39.617794</td>\n",
       "      <td>-104.954917</td>\n",
       "      <td>39.606690</td>\n",
       "      <td>-104.958490</td>\n",
       "      <td>1.272</td>\n",
       "    </tr>\n",
       "    <tr>\n",
       "      <th>1</th>\n",
       "      <td>573bf1d9864fce1a9af8c5c9</td>\n",
       "      <td>3526</td>\n",
       "      <td>473335.0</td>\n",
       "      <td>2.0</td>\n",
       "      <td>-125.0</td>\n",
       "      <td>2016-05-18 04:38:49</td>\n",
       "      <td>39.677251</td>\n",
       "      <td>-104.952721</td>\n",
       "      <td>39.606690</td>\n",
       "      <td>-104.958490</td>\n",
       "      <td>7.862</td>\n",
       "    </tr>\n",
       "    <tr>\n",
       "      <th>2</th>\n",
       "      <td>573bf3533e952e19126b256a</td>\n",
       "      <td>2605</td>\n",
       "      <td>473335.0</td>\n",
       "      <td>1.0</td>\n",
       "      <td>-134.0</td>\n",
       "      <td>2016-05-18 04:45:07</td>\n",
       "      <td>39.612745</td>\n",
       "      <td>-105.008827</td>\n",
       "      <td>39.637741</td>\n",
       "      <td>-104.958554</td>\n",
       "      <td>5.125</td>\n",
       "    </tr>\n",
       "    <tr>\n",
       "      <th>3</th>\n",
       "      <td>573c0cd0f0fe6e735a699b93</td>\n",
       "      <td>2610</td>\n",
       "      <td>473953.0</td>\n",
       "      <td>2.0</td>\n",
       "      <td>-132.0</td>\n",
       "      <td>2016-05-18 06:33:52</td>\n",
       "      <td>39.797969</td>\n",
       "      <td>-105.073460</td>\n",
       "      <td>39.730417</td>\n",
       "      <td>-104.968940</td>\n",
       "      <td>11.672</td>\n",
       "    </tr>\n",
       "    <tr>\n",
       "      <th>4</th>\n",
       "      <td>573c0cd0f0fe6e735a699b93</td>\n",
       "      <td>3574</td>\n",
       "      <td>473953.0</td>\n",
       "      <td>1.0</td>\n",
       "      <td>-120.0</td>\n",
       "      <td>2016-05-18 06:33:52</td>\n",
       "      <td>39.723151</td>\n",
       "      <td>-104.956216</td>\n",
       "      <td>39.730417</td>\n",
       "      <td>-104.968940</td>\n",
       "      <td>1.355</td>\n",
       "    </tr>\n",
       "  </tbody>\n",
       "</table>\n",
       "</div>"
      ],
      "text/plain": [
       "                     messid  bsid       did  nseq   rssi             time_ux  \\\n",
       "0  573bf1d9864fce1a9af8c5c9  2841  473335.0   0.5 -121.5 2016-05-18 04:38:49   \n",
       "1  573bf1d9864fce1a9af8c5c9  3526  473335.0   2.0 -125.0 2016-05-18 04:38:49   \n",
       "2  573bf3533e952e19126b256a  2605  473335.0   1.0 -134.0 2016-05-18 04:45:07   \n",
       "3  573c0cd0f0fe6e735a699b93  2610  473953.0   2.0 -132.0 2016-05-18 06:33:52   \n",
       "4  573c0cd0f0fe6e735a699b93  3574  473953.0   1.0 -120.0 2016-05-18 06:33:52   \n",
       "\n",
       "      bs_lat      bs_lng        lat         lng  distance_bs_mess  \n",
       "0  39.617794 -104.954917  39.606690 -104.958490             1.272  \n",
       "1  39.677251 -104.952721  39.606690 -104.958490             7.862  \n",
       "2  39.612745 -105.008827  39.637741 -104.958554             5.125  \n",
       "3  39.797969 -105.073460  39.730417 -104.968940            11.672  \n",
       "4  39.723151 -104.956216  39.730417 -104.968940             1.355  "
      ]
     },
     "execution_count": 5,
     "metadata": {},
     "output_type": "execute_result"
    }
   ],
   "source": [
    "df = df_mess_train.join(pos_train)\n",
    "df['distance_bs_mess'] = np.round(dist(df.lat.values,df.bs_lat.values,df.lng.values,df.bs_lng.values),3)\n",
    "df['time_ux'] =  pd.to_datetime(df.time_ux.values,unit='ms')\n",
    "df.head()"
   ]
  },
  {
   "cell_type": "markdown",
   "metadata": {},
   "source": [
    "##### Lien entre RSSI et distance relative"
   ]
  },
  {
   "cell_type": "markdown",
   "metadata": {},
   "source": [
    "Comme mentionné en introduction, il existe normalement un lien entre RSSI et distance relative. Nous pouvons visualiser ce lien en affichant sur un graphique RSSI en fonction de distance."
   ]
  },
  {
   "cell_type": "code",
   "execution_count": 6,
   "metadata": {},
   "outputs": [
    {
     "data": {
      "image/png": "[encoded data removed]",
      "text/plain": [
       "<Figure size 720x504 with 1 Axes>"
      ]
     },
     "metadata": {
      "needs_background": "light"
     },
     "output_type": "display_data"
    }
   ],
   "source": [
    "lenx = 10\n",
    "leny = 10\n",
    "#On plot les données non-modifiées\n",
    "plt.figure(figsize=(10,7))\n",
    "plot_distrib(df, \"distance_bs_mess\", \"rssi\", lenx,leny)"
   ]
  },
  {
   "cell_type": "markdown",
   "metadata": {},
   "source": [
    "Visuellement, on constate un problème : certains stations sont situés à plus de 500 km des messages captés, ce qui n'est physiquement pas possible ! Il y a donc un problème de données, soit sur la position des BS, soit sur la position du MESSID.\n",
    "\n",
    "Nous fixerons ce problème dans la partie \"feature engineering\", pour le moment, afin de visualiser correctement les données, nous pouvons simplement supprimer les données abérantes du dataset."
   ]
  },
  {
   "cell_type": "code",
   "execution_count": 7,
   "metadata": {},
   "outputs": [
    {
     "data": {
      "text/plain": [
       "[<matplotlib.lines.Line2D at 0x7f5cc2115a90>]"
      ]
     },
     "execution_count": 7,
     "metadata": {},
     "output_type": "execute_result"
    },
    {
     "data": {
      "image/png": "[encoded data removed]",
      "text/plain": [
       "<Figure size 720x504 with 1 Axes>"
      ]
     },
     "metadata": {
      "needs_background": "light"
     },
     "output_type": "display_data"
    }
   ],
   "source": [
    "lenx = 15\n",
    "df_sub = df[df.distance_bs_mess < 100]\n",
    "xini = df_sub[\"distance_bs_mess\"].min()\n",
    "xmax = df_sub[\"distance_bs_mess\"].max()\n",
    "deltx = (xmax-xini)/lenx\n",
    "\n",
    "R = []\n",
    "d = []\n",
    "for j in range(lenx):\n",
    "    R.append(df_sub[(df_sub[\"distance_bs_mess\"]>xini+j*deltx) & (df_sub[\"distance_bs_mess\"]<xini+(j+1)*deltx)]\n",
    "             .sort_values(\"rssi\",ascending = False).head(5)[\"rssi\"].mean())\n",
    "    d.append(df_sub[(df_sub[\"distance_bs_mess\"]>xini+j*deltx) & (df_sub[\"distance_bs_mess\"]<xini+(j+1)*deltx)][\"distance_bs_mess\"].mean())\n",
    "\n",
    "plt.figure(figsize=(10,7))    \n",
    "plot_distrib(df_sub, \"distance_bs_mess\", \"rssi\", lenx,leny)\n",
    "plt.plot(d,R,c=\"r\",linewidth=5)"
   ]
  },
  {
   "cell_type": "markdown",
   "metadata": {},
   "source": [
    "Ce dernier graph est déjà plus parlant, et on voit se dessiner la loi de decroissance exponentielle entre le rssi et distance. (visualisé par la courbe en rouge)\n",
    "\n",
    "Cette courbe reflète la distance maximum à laquel un MESSID peut se trouver en connaissant le RSSI capté par la BS.\n",
    "\n",
    "Néanmoins, et de manière prévisible, la plupart des RSSI on un RSSI plus faible que ce à quoi on s'attendrait dans le cas idéal matérialisé par la courbe rouge à cause des facteurs extérieurs expliqués en introduction.\n"
   ]
  },
  {
   "cell_type": "markdown",
   "metadata": {},
   "source": [
    "##### Position spaciale des BS et des MESSID"
   ]
  },
  {
   "cell_type": "markdown",
   "metadata": {},
   "source": [
    "Afin de savoir si les abérations dans les données viennent des MESSID ou des BSID, nous pouvons afficher les positions respectives des BSID et des DID en utilisant leurs coordonnées."
   ]
  },
  {
   "cell_type": "code",
   "execution_count": 8,
   "metadata": {},
   "outputs": [
    {
     "data": {
      "text/plain": [
       "<matplotlib.legend.Legend at 0x7f5cc02f1a20>"
      ]
     },
     "execution_count": 8,
     "metadata": {},
     "output_type": "execute_result"
    },
    {
     "data": {
      "image/png": "[encoded data removed]",
      "text/plain": [
       "<Figure size 720x504 with 1 Axes>"
      ]
     },
     "metadata": {
      "needs_background": "light"
     },
     "output_type": "display_data"
    }
   ],
   "source": [
    "plt.figure(figsize=(10,7))\n",
    "plt.scatter(df.lat,df.lng, color = 'red')\n",
    "plt.scatter(df.bs_lat,df.bs_lng, color = 'yellow')\n",
    "plt.title('position des BS et des MESSID')\n",
    "plt.xlabel('lat')\n",
    "plt.ylabel('lng')\n",
    "plt.legend(['MESSID','BSID'])"
   ]
  },
  {
   "cell_type": "markdown",
   "metadata": {},
   "source": [
    "Visuellement, on voit plusieurs outsiders du coté des BSID, et il sagit sans doute de données corrompues. Nous devons prendre soin de modifier la position de ces BSID lorsque nous ferons nos prédictions.\n",
    "\n",
    "Pour le moment, nous visualisons à nouveau le même graphe en prenant soin de retirer les outsiders."
   ]
  },
  {
   "cell_type": "code",
   "execution_count": 9,
   "metadata": {},
   "outputs": [
    {
     "data": {
      "text/plain": [
       "<matplotlib.legend.Legend at 0x7f5cc024a6d8>"
      ]
     },
     "execution_count": 9,
     "metadata": {},
     "output_type": "execute_result"
    },
    {
     "data": {
      "image/png": "[encoded data removed]",
      "text/plain": [
       "<Figure size 720x504 with 1 Axes>"
      ]
     },
     "metadata": {
      "needs_background": "light"
     },
     "output_type": "display_data"
    }
   ],
   "source": [
    "df_sub = df[df.distance_bs_mess <300]\n",
    "\n",
    "plt.figure(figsize=(10,7))\n",
    "plt.scatter(df_sub.lat,df_sub.lng, color = 'red')\n",
    "plt.scatter(df_sub.bs_lat,df_sub.bs_lng, color = 'yellow')\n",
    "plt.title('position des BS et des MESSID // Sans les outsiders')\n",
    "plt.xlabel('lat')\n",
    "plt.ylabel('lng')\n",
    "plt.legend(['MESSID','BSID'])"
   ]
  },
  {
   "cell_type": "markdown",
   "metadata": {},
   "source": [
    "On voit qu'une fois les outliners supprimés, la répartition entre les MESSID et les BSID est bien plus cohérente.\n",
    "Il faut tout de même vérifier si nous avons le droit de faire cela. On regarde combien de MESSID sont impactés par ces BSID 'outliners'"
   ]
  },
  {
   "cell_type": "code",
   "execution_count": 10,
   "metadata": {},
   "outputs": [
    {
     "name": "stdout",
     "output_type": "stream",
     "text": [
      "il y a 31 % des messages impactés par au moins un outliner\n"
     ]
    },
    {
     "data": {
      "text/html": [
       "<div>\n",
       "<style scoped>\n",
       "    .dataframe tbody tr th:only-of-type {\n",
       "        vertical-align: middle;\n",
       "    }\n",
       "\n",
       "    .dataframe tbody tr th {\n",
       "        vertical-align: top;\n",
       "    }\n",
       "\n",
       "    .dataframe thead th {\n",
       "        text-align: right;\n",
       "    }\n",
       "</style>\n",
       "<table border=\"1\" class=\"dataframe\">\n",
       "  <thead>\n",
       "    <tr style=\"text-align: right;\">\n",
       "      <th></th>\n",
       "      <th>tot_%_mess</th>\n",
       "    </tr>\n",
       "    <tr>\n",
       "      <th>count_bsid</th>\n",
       "      <th></th>\n",
       "    </tr>\n",
       "  </thead>\n",
       "  <tbody>\n",
       "    <tr>\n",
       "      <th>1</th>\n",
       "      <td>2.3</td>\n",
       "    </tr>\n",
       "    <tr>\n",
       "      <th>2</th>\n",
       "      <td>2.2</td>\n",
       "    </tr>\n",
       "    <tr>\n",
       "      <th>3</th>\n",
       "      <td>2.4</td>\n",
       "    </tr>\n",
       "    <tr>\n",
       "      <th>4</th>\n",
       "      <td>2.4</td>\n",
       "    </tr>\n",
       "    <tr>\n",
       "      <th>5</th>\n",
       "      <td>2.6</td>\n",
       "    </tr>\n",
       "  </tbody>\n",
       "</table>\n",
       "</div>"
      ],
      "text/plain": [
       "            tot_%_mess\n",
       "count_bsid            \n",
       "1                  2.3\n",
       "2                  2.2\n",
       "3                  2.4\n",
       "4                  2.4\n",
       "5                  2.6"
      ]
     },
     "execution_count": 10,
     "metadata": {},
     "output_type": "execute_result"
    }
   ],
   "source": [
    "#On filtre les outliners par la distance\n",
    "df_ = df[df.distance_bs_mess > 300]\n",
    "\n",
    "#On creer la liste des messages pour lesquelles il y a au moins un outliner\n",
    "mess_outliners = df_.messid.unique()\n",
    "print(f'il y a {round(len(mess_outliners)/len(df.messid.unique())*100)} % des messages impactés par au moins un outliner')\n",
    "\n",
    "#On regarde également le nombre de BS captant ces messages impactés par au moins 1 outliners\n",
    "df_ = df[df.messid.isin(mess_outliners)]\n",
    "df_ = df_[['messid','bsid']].rename(columns = {'bsid': 'count_bsid'}).groupby('messid').count().sort_values('count_bsid')\n",
    "df_['tot_%_mess'] = range(len(df_))\n",
    "df_ = round(df_.groupby('count_bsid').count()/len(df.messid.unique())*100,1)\n",
    "\n",
    "df_.head(5)"
   ]
  },
  {
   "cell_type": "markdown",
   "metadata": {},
   "source": [
    "Ce que nous montre le tableau ci-dessus, c'est que plus de 10% des messages du dataset sont : \n",
    "- vu par moins de 5 stations au total\n",
    "- vu par au moins une station defectueuse\n",
    "\n",
    "Si l'on décide de purement supprimer ces stations defectueuses, nous aurons une grande perte d'information pour ces messages, il faudra donc trouver un moyen de corriger la position de ces BSID"
   ]
  },
  {
   "cell_type": "markdown",
   "metadata": {},
   "source": [
    "#### Visualisation d'un cas de figure MESSID / BSID "
   ]
  },
  {
   "cell_type": "markdown",
   "metadata": {},
   "source": [
    "On s'intéresse maintenant à un MESSID donnée, on va pouvoir afficher toutes les BSID qui sont activés par l'emission de ce MESSID, et celles qui ne le sont pas"
   ]
  },
  {
   "cell_type": "code",
   "execution_count": 12,
   "metadata": {},
   "outputs": [
    {
     "data": {
      "text/plain": [
       "<matplotlib.legend.Legend at 0x7f5cc015eb38>"
      ]
     },
     "execution_count": 12,
     "metadata": {},
     "output_type": "execute_result"
    },
    {
     "data": {
      "image/png": "[encoded data removed]",
      "text/plain": [
       "<Figure size 720x504 with 1 Axes>"
      ]
     },
     "metadata": {
      "needs_background": "light"
     },
     "output_type": "display_data"
    }
   ],
   "source": [
    "#On creer une liste des messid unique\n",
    "messid_unique = df.messid.unique()\n",
    "#On tire au sort un messid dans la liste\n",
    "n = random.randint(0,len(messid_unique))\n",
    "mess = messid_unique[n]\n",
    "\n",
    "df_ = df_sub.loc[df_sub.messid == mess,['bsid','lat','lng','bs_lat','bs_lng']]\n",
    "\n",
    "mess_lat = df_.lat.unique()[0]\n",
    "mess_lng = df_.lng.unique()[0]\n",
    "\n",
    "#On plot la position de notre message et des stations activés\n",
    "plt.figure(figsize=(10,7))\n",
    "plt.scatter(df_.bs_lat,df_.bs_lng, color='green',s=60)\n",
    "plt.scatter(df_.lat,df_.lng, color='red', s=100)\n",
    "\n",
    "#On garde en memoire la liste des bs actionnées\n",
    "bs_active = df_.bsid.unique()\n",
    "\n",
    "#On cherche la station active la plus éloigné au message\n",
    "dist_max = dist(mess_lat,df_.bs_lat.values,mess_lng,df_.bs_lng.values).max()\n",
    "\n",
    "#On creer un nouveau df pour lequel on va calculer la distance relative à la position du message\n",
    "df_ = df_sub.copy()\n",
    "df_['dist_mess'] = dist(mess_lat,df_.bs_lat.values,mess_lng,df_.bs_lng.values)\n",
    "\n",
    "#On ne conserve que les stations dans un périmètre proche\n",
    "p = dist_max\n",
    "df_ = df_[df_.dist_mess < p]\n",
    "df_ =  df_[~df_.bsid.isin(bs_active)]\n",
    "#On plot les stations proches du message qui ne s'activent pas\n",
    "plt.scatter(df_.bs_lat,df_.bs_lng, color='y')\n",
    "plt.title('Stations activées/ Non activées pour un messid donnée')\n",
    "plt.xlabel('lat')\n",
    "plt.ylabel('lng')\n",
    "plt.legend(['BSID activés','Position du MESSID','BSID non activés'])"
   ]
  },
  {
   "cell_type": "markdown",
   "metadata": {},
   "source": [
    "On constate donc que toutes les stations à proximité d'un device ne s'active pas lorsque celui-ci emet un message. \n",
    "Je me pose donc la question suivante : pour des messages 'proches' émis par un même DID, est-ce que ce sont les mêmes stations qui s'activent et qui ne s'activent pas ?"
   ]
  },
  {
   "cell_type": "markdown",
   "metadata": {},
   "source": [
    "# Approche 1 : Triangularisation par distance prédite via ML"
   ]
  },
  {
   "cell_type": "markdown",
   "metadata": {},
   "source": [
    "Dans cette partie je vais essayer plusieurs méthodes de feature engineering couplés à plusieurs algorithmes de machine learning. \n",
    "\n",
    "Afin de valider chaque modèle, une cross-validation sera réalisée sur l'ensemble du training set en prenant soin de séparer les devices entre le training set et le validation set. \n",
    "\n",
    "La métrique utilisé pour valider les modèles sera la distance entre prediction et position réelle et plus précisement le quantile 0.8."
   ]
  },
  {
   "cell_type": "markdown",
   "metadata": {},
   "source": [
    "## Repositionnement des BS défaillantes "
   ]
  },
  {
   "cell_type": "markdown",
   "metadata": {},
   "source": [
    "Afin de repositionner simplement les BS défaillantes, j'utilise une approche simple qui consiste à regarder la position moyenne des autres stations voyant un message, et de remoyenner pour chaque message vu par la station defectueuse. J'utilise pour cela la fonction ci-dessous."
   ]
  },
  {
   "cell_type": "code",
   "execution_count": 13,
   "metadata": {},
   "outputs": [],
   "source": [
    "def cleaning_bs(X,distance,d=100):\n",
    "    #On repère toutes les stattions défaillantes, on considère dans un premier temps toutes les stations au dela de 100km\n",
    "    defX = X[X[distance]>d].sort_values(distance)\n",
    "\n",
    "    print(f\"nombre de stations défaillantes : {len(defX['bsid'].unique())}\")\n",
    "\n",
    "    def_bsid = defX['bsid'].unique()\n",
    "\n",
    "    #Approche simple : si des stations non-defectueuses sont à proximité, on ajoute la station défectueuse\n",
    "    #au même endroit que la station non-defectueuse la plus proche\n",
    "\n",
    "    for k in range(2):\n",
    "        for bsid0 in def_bsid:\n",
    "            messDef = X[X['bsid']==bsid0][\"messid\"]\n",
    "            df_bsid = X[X[\"messid\"].isin(messDef)]\n",
    "            df_bsid = df_bsid[(1-df_bsid[\"bsid\"].isin(def_bsid)).apply(lambda x: True if x==1 else False)]\n",
    "            if len(df_bsid) != 0:\n",
    "                #On va chercher à récupérer la borne la plus proche du RSSI pour chaque message, et moyenner les positions\n",
    "                mess = df_bsid[\"messid\"].unique()\n",
    "                lat = []\n",
    "                lng = []\n",
    "                for m in mess:\n",
    "                    df_bsid_fil = df_bsid[df_bsid[\"messid\"]==m][[\"bsid\",\"rssi\",distance,\"bs_lat\",\"bs_lng\"]].copy()\n",
    "                    df_bsid_fil[\"rssir\"]=np.floor(df_bsid_fil[\"rssi\"]/5)*5\n",
    "                    bad_rssi = X[(X[\"bsid\"]==bsid0) & (X[\"messid\"]==m)][\"rssi\"]\n",
    "                    bad_rssi = np.floor(bad_rssi/5)*5\n",
    "                    lat.append(df_bsid_fil[\"bs_lat\"].mean())\n",
    "                    lng.append(df_bsid_fil[\"bs_lng\"].mean())\n",
    "                if len(lat):\n",
    "                    lat = sum(lat) / float(len(lat))\n",
    "                if len(lng):\n",
    "                    lng = sum(lng) / float(len(lng))\n",
    "                    X.loc[X['bsid'] == bsid0, 'bs_lat'] = lat\n",
    "                    X.loc[X['bsid'] == bsid0, 'bs_lng'] = lng\n",
    "\n",
    "        X[distance] = dist(X.lat,X.bs_lat,X.lng,X.bs_lng)\n",
    "        defX = X[X[distance]>d].sort_values(distance)\n",
    "        print(f\"nombre de stations défaillantes : {len(defX['bsid'].unique())}\")\n",
    "        dd = defX.loc[defX[\"bsid\"].drop_duplicates().index]\n",
    "        def_bsid = dd[\"bsid\"].unique()\n",
    "        X=X.drop(X[X[\"bsid\"].isin(def_bsid)].index)\n",
    "    return X"
   ]
  },
  {
   "cell_type": "code",
   "execution_count": 14,
   "metadata": {},
   "outputs": [
    {
     "name": "stdout",
     "output_type": "stream",
     "text": [
      "nombre de stations défaillantes : 39\n",
      "nombre de stations défaillantes : 11\n",
      "nombre de stations défaillantes : 0\n"
     ]
    }
   ],
   "source": [
    "df = cleaning_bs(df, 'distance_bs_mess', d = 200)"
   ]
  },
  {
   "cell_type": "markdown",
   "metadata": {},
   "source": [
    "### Feature Engineering "
   ]
  },
  {
   "cell_type": "code",
   "execution_count": 14,
   "metadata": {},
   "outputs": [],
   "source": [
    "df_ = df.copy()\n",
    "\n",
    "#Nombre de BS total qui voient un message donné\n",
    "_ = df[['messid','bsid']].groupby('messid').apply(lambda x: len(list(x['bsid'])))\n",
    "_ = df.join(pd.DataFrame(_).rename(columns={0:'_'}), on ='messid')\n",
    "df_['num_bs'] = _['_']\n",
    "\n",
    "#Nombre de MESSID total vu par chaque BS\n",
    "_ = df[['messid','bsid']].groupby('bsid').apply(lambda x: len(list(x['messid'])))\n",
    "_ = df.join(pd.DataFrame(_).rename(columns={0:'_'}), on='bsid')\n",
    "df_['num_mess'] = _['_']\n",
    "\n",
    "#RSSI moyen capté par une BSID donnée\n",
    "df_['mean_bs_rssi'] = df.join(df[['bsid','rssi']].groupby('bsid').mean().rename(columns={\"rssi\":'_'}), on = 'bsid')['_']\n",
    "\n",
    "#NSEQ moyen capté par une BSID donnée\n",
    "df_['mean_nseq'] = df.join(df[['bsid','nseq']].groupby('bsid').mean().rename(columns={\"nseq\":'_'}), on = 'bsid')['_']\n",
    "\n",
    "#RSSI moyen d'un MESSID donnée\n",
    "df_['mean_mess_rssi'] = df.join(df[['messid','rssi']].groupby('messid').mean().rename(columns={\"rssi\":'_'}), on = 'messid')['_']\n",
    "\n",
    "#RSSI moyen d'un DID\n",
    "df_['mean_did_rssi'] = df.join(df[['did','rssi']].groupby('did').mean().rename(columns={\"rssi\":'_'}), on = 'did')['_']\n",
    "\n",
    "#Nombre de BS captés par un DID\n",
    "_ = df[['bsid','did']].groupby('did').apply(lambda x: len(list(x['bsid'])))\n",
    "_ = pd.DataFrame(_).rename(columns={0:'_'})\n",
    "df_['num_bs_by_did'] = df.join(_,on = 'did')['_']\n",
    "\n",
    "#Distance maximal entre 2 BS, pour un MESSID donné\n",
    "_ = df[['bs_lat','bs_lng','messid']].groupby('messid').max().rename(columns={'bs_lat':'max_lat','bs_lng':'max_lng'})\n",
    "_ = _.join(df[['bs_lat','bs_lng','messid']].groupby('messid').min().rename(columns={'bs_lat':'min_lat','bs_lng':'min_lng'}))\n",
    "_['bs_dist_max'] = dist(_.max_lat.values,_.min_lat.values,_.max_lng.values,_.min_lng.values)\n",
    "df_['bs_dist_max'] = df.join(_.bs_dist_max, on='messid')['bs_dist_max']\n",
    "\n",
    "#Jour de la semaine / Heure / Mois de l'année\n",
    "df_['weekday'] = pd.to_datetime(df['time_ux'], unit = 'ms').dt.weekday\n",
    "df_['hour'] = pd.to_datetime(df['time_ux'], unit = 'ms').dt.hour\n",
    "df_['month'] = pd.to_datetime(df['time_ux'], unit = 'ms').dt.month\n",
    "\n",
    "#On supprime les features qui ne seront pas utiles pour les prévisions \n",
    "df_ = df_.drop(['messid','time_ux','lat','lng','distance_bs_mess'], axis=1)"
   ]
  },
  {
   "cell_type": "markdown",
   "metadata": {},
   "source": [
    "### Entrainement du modèle"
   ]
  },
  {
   "cell_type": "markdown",
   "metadata": {},
   "source": [
    "Pour entrainer le modèle, j'ai crée une fonction spécial qui va réalisé un cross-val en séparant les DID entre train et test, et qui merge les résultats finaux. Je peux passer l'algorithme de prédiction que je veux utiliser dedans.\n",
    "\n",
    "A noter : en choisissant folds = len(did) : on réaliser un crossval one-device-out. Je me suis limité à une crossval à 10 devices-folds pour des raisons de puissance de calcul."
   ]
  },
  {
   "cell_type": "code",
   "execution_count": 15,
   "metadata": {},
   "outputs": [],
   "source": [
    "def did_cross_val(X,X_,list_unique, folds,model,pred):\n",
    "    \n",
    "    \"\"\"Retourne une dataframe des prédictions en pratiquant une crossval sur les data\"\"\"\n",
    "    __X = X_\n",
    "    list_f = list(list_unique.copy())\n",
    "    \n",
    "    #On mélange les device\n",
    "    np.random.shuffle(list_f)\n",
    "    \n",
    "    #On prépare le nombre de folds pour le kfold\n",
    "    k = int(np.floor(len(list_f)/folds))\n",
    "    fold_l = []\n",
    "    ###On creer les listes pour le crossval\n",
    "    for i in range(folds-1):\n",
    "        fold_l.append(list_f[i*k:((i+1)*k)])\n",
    "    fold_l.append(list_f[((i+1)*k):])\n",
    "    \n",
    "    DF = []\n",
    "    #On creer les variables de test et train :\n",
    "    for did_l in fold_l:\n",
    "        df = pd.DataFrame()\n",
    "        \n",
    "        #On train sur dist\n",
    "        mod = model\n",
    "        pred = pred\n",
    "        \n",
    "        #On rajoute la variable à prévoir à notre database\n",
    "        _X = __X\n",
    "        _X[pred] = X[pred]\n",
    "        \n",
    "        #On selectionne les lignes pour les devices selectionnées\n",
    "        X_train = _X[~_X[('did')].isin(did_l)].drop([pred,\"did\"],axis=1).copy()\n",
    "        X_test = _X[_X['did'].isin(did_l)].drop([pred,\"did\"],axis=1).copy()\n",
    "        y_train = _X[~_X['did'].isin(did_l)][pred].values.ravel()\n",
    "        y_test = _X[_X['did'].isin(did_l)][pred].values.ravel()\n",
    "        \n",
    "        #On entraine le model et on prédit sur le test set\n",
    "        mod.fit(X_train,y_train)\n",
    "        ypred = mod.predict(X_test)\n",
    "        \n",
    "        df['p'+pred] = ypred\n",
    "        \n",
    "        #On ajoute l'indexe\n",
    "        df['ind'] =  _X[_X['did'].isin(did_l)].index\n",
    "        df = df.set_index('ind')\n",
    "        DF.append(df)\n",
    "        \n",
    "    return pd.concat(DF)"
   ]
  },
  {
   "cell_type": "markdown",
   "metadata": {},
   "source": [
    "### Utilisation de LightGBM pour estimer la distance entre BS et MESSID"
   ]
  },
  {
   "cell_type": "markdown",
   "metadata": {},
   "source": [
    "J'ai essayé plusieurs algorithmes pour prédire la distance, c'est LGBM qui m'a donné les meilleurs résultats en crossvalidation sur les prédictions de distance entre BSID et MESSID\n",
    "\n",
    "LightGBM est un algorithm de boosting dans la même ligné que XGBoost et GradientBoost développé par Microsoft en 2017. Il utilise un développement vertical des arbres de décision pour minimiser l'erreur"
   ]
  },
  {
   "cell_type": "code",
   "execution_count": 16,
   "metadata": {},
   "outputs": [],
   "source": [
    "from lightgbm import LGBMRegressor\n",
    "\n",
    "list_did = df.did.unique()\n",
    "model = LGBMRegressor(num_leaves = 300, n_estimators=300, max_depth = 10, reg_lambda = 1)\n",
    "ypred =  did_cross_val(df,df_,list_did, 10,model,'distance_bs_mess')\n",
    "ypred['dist'] = df['distance_bs_mess']\n",
    "ypred['err'] = np.abs(ypred.dist-ypred.pdistance_bs_mess)"
   ]
  },
  {
   "cell_type": "code",
   "execution_count": 17,
   "metadata": {},
   "outputs": [
    {
     "data": {
      "text/html": [
       "<div>\n",
       "<style scoped>\n",
       "    .dataframe tbody tr th:only-of-type {\n",
       "        vertical-align: middle;\n",
       "    }\n",
       "\n",
       "    .dataframe tbody tr th {\n",
       "        vertical-align: top;\n",
       "    }\n",
       "\n",
       "    .dataframe thead th {\n",
       "        text-align: right;\n",
       "    }\n",
       "</style>\n",
       "<table border=\"1\" class=\"dataframe\">\n",
       "  <thead>\n",
       "    <tr style=\"text-align: right;\">\n",
       "      <th></th>\n",
       "      <th>pdistance_bs_mess</th>\n",
       "      <th>dist</th>\n",
       "      <th>err</th>\n",
       "    </tr>\n",
       "    <tr>\n",
       "      <th>ind</th>\n",
       "      <th></th>\n",
       "      <th></th>\n",
       "      <th></th>\n",
       "    </tr>\n",
       "  </thead>\n",
       "  <tbody>\n",
       "    <tr>\n",
       "      <th>147</th>\n",
       "      <td>5.694236</td>\n",
       "      <td>1.849749</td>\n",
       "      <td>3.844488</td>\n",
       "    </tr>\n",
       "    <tr>\n",
       "      <th>148</th>\n",
       "      <td>8.337663</td>\n",
       "      <td>2.707648</td>\n",
       "      <td>5.630015</td>\n",
       "    </tr>\n",
       "    <tr>\n",
       "      <th>149</th>\n",
       "      <td>5.086008</td>\n",
       "      <td>1.979577</td>\n",
       "      <td>3.106431</td>\n",
       "    </tr>\n",
       "    <tr>\n",
       "      <th>150</th>\n",
       "      <td>13.106713</td>\n",
       "      <td>11.693261</td>\n",
       "      <td>1.413452</td>\n",
       "    </tr>\n",
       "    <tr>\n",
       "      <th>151</th>\n",
       "      <td>5.054314</td>\n",
       "      <td>0.836618</td>\n",
       "      <td>4.217696</td>\n",
       "    </tr>\n",
       "  </tbody>\n",
       "</table>\n",
       "</div>"
      ],
      "text/plain": [
       "     pdistance_bs_mess       dist       err\n",
       "ind                                        \n",
       "147           5.694236   1.849749  3.844488\n",
       "148           8.337663   2.707648  5.630015\n",
       "149           5.086008   1.979577  3.106431\n",
       "150          13.106713  11.693261  1.413452\n",
       "151           5.054314   0.836618  4.217696"
      ]
     },
     "execution_count": 17,
     "metadata": {},
     "output_type": "execute_result"
    }
   ],
   "source": [
    "ypred.head()"
   ]
  },
  {
   "cell_type": "markdown",
   "metadata": {},
   "source": [
    "### Utilisation d'un algorithme de triangularisation pour prédire lat et lng "
   ]
  },
  {
   "cell_type": "markdown",
   "metadata": {},
   "source": [
    "Maintenant que nous avons une estimation de la distance, nous pouvons tenter de prédire la position exacte du device par triangularisation :\n",
    "\n",
    "Pour chaque message :\n",
    "- On trace le cercle de rayon prédit et de centre BSID. Pour se faire on définit un maillage de point de valeur 1. Si un point est situé en dehors du cercle, on donne la valeur 0 à ce point. Les points à l'intersection de tous les cercles gardent la valeur 1\n",
    "- On prend la moyenne de la surface en intersection entre tous les cercles pour prédire la position de DID\n",
    "- Si les cercles n'ont pas d'intercection, on augmente progressivement le diamètre\n",
    "- Si l'augmentation de diamètre ne suffit pas, on se contente de prendre la position moyenne entre toutes les BSID activées par le MESSID\n",
    "\n",
    "Ci-dessous le code de l'algorithme :"
   ]
  },
  {
   "cell_type": "code",
   "execution_count": 18,
   "metadata": {},
   "outputs": [],
   "source": [
    "def scores(dist1,dist2):\n",
    "    if dist1 < dist2:\n",
    "        return 1\n",
    "    else :\n",
    "        return 0\n",
    "    \n",
    "scores = np.vectorize(scores)\n",
    "\n",
    "def n_est(X,m,mesh,p=0):\n",
    "    #On s'intéresse à un message m, on isole toutes les lignes correspondant à ce message\n",
    "    df = X.loc[X.messid == m].sort_values('rssi', ascending = False).head(15)\n",
    "\n",
    "    #On se base sur les BS pour définir le maillage\n",
    "    Zx = df[\"bs_lat\"].min()-0.2\n",
    "    Zxx = df[\"bs_lat\"].max()+0.2\n",
    "    Zy = df[\"bs_lng\"].min()-0.2\n",
    "    Zyy = df[\"bs_lng\"].max()+0.2\n",
    "\n",
    "    #On génère un dataframe pour le maillage\n",
    "    lat = pd.DataFrame()\n",
    "    lat[\"mesh_lat\"] = np.arange(Zx, Zxx, abs(Zx-Zxx)/mesh/1.5)\n",
    "    lng = pd.DataFrame()\n",
    "    lng[\"mesh_lng\"] = np.arange(Zy, Zyy, abs(Zy-Zyy)/mesh)\n",
    "    lat['key'] = 0\n",
    "    lng['key'] = 0\n",
    "    mesh = lat.merge(lng, how='left', on = 'key')\n",
    "    mesh['tot'] = np.ones(len(mesh))\n",
    "    #On calcul la distance entre chaque point du maillage et les BS\n",
    "    for j in range(len(df)):\n",
    "        mesh[f\"dist_{j}\"] = dist(mesh[\"mesh_lat\"].values,df.iloc[j][\"bs_lat\"],mesh[\"mesh_lng\"].values,df.iloc[j][\"bs_lng\"])\n",
    "        mesh[f'score_{j}'] = scores(mesh[f'dist_{j}'],df.iloc[j]['pred_dist']+0.5)\n",
    "        mesh['tot'] = mesh['tot']*mesh[f'score_{j}']\n",
    "\n",
    "    p_mesh = mesh.loc[mesh.tot == 1,[\"mesh_lat\",\"mesh_lng\"]]\n",
    "    #On garde tous les points à l'intérieur de la zone de prédiction\n",
    "    pred_mesh = mesh.loc[mesh.tot == 1,[\"mesh_lat\",\"mesh_lng\"]].mean()\n",
    "\n",
    "    \n",
    "    eps = 1\n",
    "    while len(p_mesh)==0:\n",
    "        mesh['tot'] = np.ones(len(mesh))\n",
    "        for j in range(len(df)):\n",
    "            mesh[f\"dist_{j}\"] = dist(mesh[\"mesh_lat\"].values,df.iloc[j][\"bs_lat\"],mesh[\"mesh_lng\"].values,df.iloc[j][\"bs_lng\"])\n",
    "            mesh[f'score_{j}'] = scores(mesh[f'dist_{j}'],df.iloc[j]['pred_dist']+0.5+eps)\n",
    "            mesh['tot'] = mesh['tot']*mesh[f'score_{j}']\n",
    "        p_mesh = mesh.loc[mesh.tot == 1,[\"mesh_lat\",\"mesh_lng\"]]\n",
    "        #On garde tous les points à l'intérieur de la zone de prédiction\n",
    "        pred_mesh = mesh.loc[mesh.tot == 1,[\"mesh_lat\",\"mesh_lng\"]].mean()\n",
    "        eps +=1\n",
    "        if eps > 5:\n",
    "            break\n",
    "          \n",
    "    #Si aucun point n'est prédit, ou si au contraire trop de points sont dans l'ensemble, on utilise la prédiction classique\n",
    "    ####A coder\n",
    "    if len(p_mesh)==0:\n",
    "        pred_mesh = df[['bs_lat','bs_lng']]\n",
    "        pred_mesh = pred_mesh.rename(index = int, columns = {'bs_lat':\"mesh_lat\",'bs_lng':\"mesh_lng\"}).mean()\n",
    "\n",
    "    if p == 1 :\n",
    "        plt.figure(figsize=(10,7))\n",
    "        plt.title('Visualisation of the prediction by triangularisation')\n",
    "        plt.xlabel('lat')\n",
    "        plt.ylabel('lng')\n",
    "        plt.scatter(p_mesh.mesh_lat,p_mesh.mesh_lng,c='yellow', label = 'mesh inside all circles')\n",
    "        plt.scatter(df.bs_lat,df.bs_lng,c='black', label = 'stations')\n",
    "        plt.scatter(df.lat,df.lng,c='green', label = 'true position')\n",
    "        plt.scatter(pred_mesh.mesh_lat,pred_mesh.mesh_lng,c='red', label='prediction')\n",
    "        plt.legend()\n",
    "\n",
    "        for j in range(len(df)):\n",
    "            plot_circle(df.iloc[j][\"bs_lat\"],df.iloc[j][\"bs_lng\"],df.iloc[j][\"pred_dist\"],mesh = 10)\n",
    "        print(f'err : {round(dist(df.lat.mean(),pred_mesh.mesh_lat,df.lng.mean(),pred_mesh.mesh_lng),3)} km')\n",
    "    return [m,pred_mesh[0],pred_mesh[1]]\n",
    "\n"
   ]
  },
  {
   "cell_type": "markdown",
   "metadata": {},
   "source": [
    "On applique l'algorithme au dessus à notre problème :"
   ]
  },
  {
   "cell_type": "code",
   "execution_count": 19,
   "metadata": {},
   "outputs": [
    {
     "name": "stdout",
     "output_type": "stream",
     "text": [
      "5% done!\n",
      "10% done!\n",
      "15% done!\n",
      "20% done!\n",
      "25% done!\n",
      "30% done!\n",
      "35% done!\n",
      "40% done!\n",
      "45% done!\n",
      "50% done!\n",
      "55% done!\n",
      "60% done!\n",
      "65% done!\n",
      "70% done!\n",
      "75% done!\n",
      "80% done!\n",
      "85% done!\n",
      "90% done!\n",
      "95% done!\n",
      "100% done!\n",
      "Erreur commise au quantile 0.8 : 4.889 km\n"
     ]
    }
   ],
   "source": [
    "mesh = 40\n",
    "df['pred_dist'] = ypred.pdistance_bs_mess\n",
    "mess = df.messid.unique()\n",
    "k = random.randint(0,len(mess))\n",
    "err = []\n",
    "k=1\n",
    "for m in mess:\n",
    "    err.append(n_est(df,m,mesh,p=0))\n",
    "    if len(err) % 300 == 0:\n",
    "        print(f'{k*5}% done!')\n",
    "        k+=1\n",
    "        \n",
    "pred_df = pd.DataFrame(err, columns = ['messid','p_lat','p_lng']).dropna()\n",
    "pred_df = pred_df.merge(df[['lat','lng','messid']].drop_duplicates(), on = 'messid')\n",
    "pred_df['dist'] = dist(pred_df.lat.values,pred_df.p_lat.values,pred_df.lng.values,pred_df.p_lng.values)\n",
    "\n",
    "print(f'Erreur commise au quantile 0.8 : {round(pred_df[\"dist\"].quantile(0.8),3)} km')"
   ]
  },
  {
   "cell_type": "markdown",
   "metadata": {},
   "source": [
    "### Erreur Cumulative\n",
    "\n",
    "On peut représenter l'erreur cumulative de notre modèle sur le graphique ci-dessous"
   ]
  },
  {
   "cell_type": "code",
   "execution_count": 20,
   "metadata": {},
   "outputs": [
    {
     "data": {
      "image/png": "[encoded data removed]",
      "text/plain": [
       "<Figure size 720x504 with 1 Axes>"
      ]
     },
     "metadata": {
      "needs_background": "light"
     },
     "output_type": "display_data"
    }
   ],
   "source": [
    "values, base = np.histogram(pred_df['dist'], bins=50000)\n",
    "cumulative = np.cumsum(values) \n",
    "plt.figure(figsize=(10,7));\n",
    "plt.plot(base[:-1], cumulative / np.float(np.sum(values))  * 100.0, c='blue', label = 'Opt LLR')\n",
    "plt.plot(base[:-1],np.ones(len(base[:-1]))*80,color = 'red', linestyle = '--', label = 'LLR 80')\n",
    "plt.plot(np.ones(100)*pred_df[\"dist\"].quantile(0.8),range(100),color = 'red', linestyle = '--')\n",
    "plt.plot(base[:-1],np.ones(len(base[:-1]))*95,color = 'green', linestyle = '--', label = 'LLR 95')\n",
    "plt.plot(np.ones(100)*pred_df[\"dist\"].quantile(0.95),range(100),color = 'green', linestyle = '--')\n",
    "plt.plot(base[:-1],np.ones(len(base[:-1]))*99,color = 'yellow', linestyle = '--', label = 'LLR 99')\n",
    "plt.plot(np.ones(100)*pred_df[\"dist\"].quantile(0.99),range(100),color = 'yellow', linestyle = '--')\n",
    "plt.grid(); plt.xlabel('Distance Error (km)'); plt.ylabel('Cum proba (%)');  \n",
    "plt.title('Error Cumulative Probability'); plt.legend()\n",
    "plt.show()"
   ]
  },
  {
   "cell_type": "markdown",
   "metadata": {},
   "source": [
    "J'ai également mis en place un petit outil de visualisation dans ma fonction de prédiction qui permet de voir comment fonctionne ma triangularisation."
   ]
  },
  {
   "cell_type": "code",
   "execution_count": 21,
   "metadata": {},
   "outputs": [
    {
     "name": "stdout",
     "output_type": "stream",
     "text": [
      "err : 1.291 km\n"
     ]
    },
    {
     "data": {
      "image/png": "[encoded data removed]",
      "text/plain": [
       "<Figure size 720x504 with 1 Axes>"
      ]
     },
     "metadata": {
      "needs_background": "light"
     },
     "output_type": "display_data"
    }
   ],
   "source": [
    "mesh=50\n",
    "mess = df.messid.unique()\n",
    "i = random.randint(0,len(mess))\n",
    "m = mess[i]\n",
    "pred = n_est(df,m,mesh,p=1)"
   ]
  },
  {
   "cell_type": "markdown",
   "metadata": {},
   "source": [
    "# Conclusion"
   ]
  },
  {
   "cell_type": "markdown",
   "metadata": {},
   "source": [
    "J'avais tout d'abord essayé d'utiliser des algorithmes de machine pure pour prédire latitude et longitude, mais sans résultats intéressants (Mon erreur cumulative à 80% s'élevait à, au mieux, 6.5km). Je me suis donc tourné vers cette approche intermédiaire entre Machine Learning et Triangularisation qui améliore nettement les résultats.\n",
    "\n",
    "Mon approche de triangularisation est très sensible à la distance prédite dans la partie machine learning, aussi, si j'avais eu plus de temps, j'aurais sans doute essayé d'affiner mon modèle en utilisant par exemple des réseaux de neuronnes et de l'embedding sur les données catégoriques.\n",
    "\n",
    "Je vais maintenant appliqué cette méthode pour prédire le test set."
   ]
  },
  {
   "cell_type": "markdown",
   "metadata": {},
   "source": [
    "# Prédictions"
   ]
  },
  {
   "cell_type": "markdown",
   "metadata": {},
   "source": [
    "On va réappliquer la méthode utilisée pour la triangularisation.\n",
    "\n",
    "Dans un premier temps on modifie les positions des BS défaillantes suivant l'algorithme développé pour le train set, et on met à jour ces mêmes stations pour le test set.\n",
    "\n",
    "Ensuite, on procède au feature engineering à la fois sur train et test set.\n",
    "\n",
    "Enfin, on entraine notre algorithme de ML de prédiction des distances, on l'applique sur le test set, et on lance l'algorithme de triangularisation"
   ]
  },
  {
   "cell_type": "markdown",
   "metadata": {},
   "source": [
    "### Modification des données défaillantes pour le test set "
   ]
  },
  {
   "cell_type": "code",
   "execution_count": 22,
   "metadata": {},
   "outputs": [
    {
     "name": "stdout",
     "output_type": "stream",
     "text": [
      "nombre de stations défaillantes : 45\n",
      "nombre de stations défaillantes : 13\n",
      "nombre de stations défaillantes : 0\n"
     ]
    }
   ],
   "source": [
    "df_mess_train = pd.read_csv('mess_train_list.csv') # train set\n",
    "df_mess_test = pd.read_csv('mess_test_list.csv') # test set\n",
    "pos_train = pd.read_csv('pos_train_list.csv') # position associated to train set\n",
    "\n",
    "\n",
    "#On commence par corriger les positions des BS à l'aide de pos_train et df_mess_train\n",
    "df = df_mess_train.join(pos_train)\n",
    "df['dist'] = dist(df.lat,df.bs_lat,df.lng,df.bs_lng)\n",
    "df = cleaning_bs(df,'dist',d=100)"
   ]
  },
  {
   "cell_type": "code",
   "execution_count": 23,
   "metadata": {},
   "outputs": [],
   "source": [
    "#On met a jour les station dans df_mess_test\n",
    "df_sub = df[['bsid','bs_lat','bs_lng']].drop_duplicates()\n",
    "list_bsid = df_sub.bsid.unique()\n",
    "\n",
    "#On slice df_mess_test sur bsid, et on enlève bs_lat et bs_lng:\n",
    "df_test_slice = df_mess_test[df_mess_test.bsid.isin(list_bsid)].drop(['bs_lat','bs_lng'],axis=1)\n",
    "df_test_slice = df_test_slice.merge(df_sub, on ='bsid', how='left')\n",
    "\n",
    "#On mets à jour les colonnes modifiées\n",
    "df_mess_test.update(df_test_slice)"
   ]
  },
  {
   "cell_type": "markdown",
   "metadata": {},
   "source": [
    "### Feature Engineering"
   ]
  },
  {
   "cell_type": "markdown",
   "metadata": {},
   "source": [
    "On concatene nos deux dataframes pour faciliter le feature engineering"
   ]
  },
  {
   "cell_type": "code",
   "execution_count": 24,
   "metadata": {},
   "outputs": [],
   "source": [
    "###Concatenation###\n",
    "dfc = pd.concat([df_mess_train,df_mess_test])\n",
    "\n",
    "##################Feature Engineering#####################\n",
    "df_ = dfc.copy()\n",
    "\n",
    "#Nombre de BS total qui voient un message donné\n",
    "_ = df[['messid','bsid']].groupby('messid').apply(lambda x: len(list(x['bsid'])))\n",
    "_ = df.join(pd.DataFrame(_).rename(columns={0:'_'}), on ='messid')\n",
    "df_['num_bs'] = _['_']\n",
    "\n",
    "#Nombre de MESSID total vu par chaque BS\n",
    "_ = df[['messid','bsid']].groupby('bsid').apply(lambda x: len(list(x['messid'])))\n",
    "_ = df.join(pd.DataFrame(_).rename(columns={0:'_'}), on='bsid')\n",
    "df_['num_mess'] = _['_']\n",
    "\n",
    "#RSSI moyen capté par une BSID donnée\n",
    "df_['mean_bs_rssi'] = df.join(df[['bsid','rssi']].groupby('bsid').mean().rename(columns={\"rssi\":'_'}), on = 'bsid')['_']\n",
    "\n",
    "#NSEQ moyen capté par une BSID donnée\n",
    "df_['mean_nseq'] = df.join(df[['bsid','nseq']].groupby('bsid').mean().rename(columns={\"nseq\":'_'}), on = 'bsid')['_']\n",
    "\n",
    "#RSSI moyen d'un MESSID donnée\n",
    "df_['mean_mess_rssi'] = df.join(df[['messid','rssi']].groupby('messid').mean().rename(columns={\"rssi\":'_'}), on = 'messid')['_']\n",
    "\n",
    "#RSSI moyen d'un DID\n",
    "df_['mean_did_rssi'] = df.join(df[['did','rssi']].groupby('did').mean().rename(columns={\"rssi\":'_'}), on = 'did')['_']\n",
    "\n",
    "#Nombre de BS captés par un DID\n",
    "_ = df[['bsid','did']].groupby('did').apply(lambda x: len(list(x['bsid'])))\n",
    "_ = pd.DataFrame(_).rename(columns={0:'_'})\n",
    "df_['num_bs_by_did'] = df.join(_,on = 'did')['_']\n",
    "\n",
    "#Distance maximal entre 2 BS, pour un MESSID donné\n",
    "_ = df[['bs_lat','bs_lng','messid']].groupby('messid').max().rename(columns={'bs_lat':'max_lat','bs_lng':'max_lng'})\n",
    "_ = _.join(df[['bs_lat','bs_lng','messid']].groupby('messid').min().rename(columns={'bs_lat':'min_lat','bs_lng':'min_lng'}))\n",
    "_['bs_dist_max'] = dist(_.max_lat.values,_.min_lat.values,_.max_lng.values,_.min_lng.values)\n",
    "df_['bs_dist_max'] = df.join(_.bs_dist_max, on='messid')['bs_dist_max']\n",
    "\n",
    "#Jour de la semaine / Heure / Mois de l'année\n",
    "df_['weekday'] = pd.to_datetime(df['time_ux'], unit = 'ms').dt.weekday\n",
    "df_['hour'] = pd.to_datetime(df['time_ux'], unit = 'ms').dt.hour\n",
    "df_['month'] = pd.to_datetime(df['time_ux'], unit = 'ms').dt.month\n",
    "\n",
    "#On supprime les features qui ne seront pas utiles pour les prévisions \n",
    "df_ = df_.drop(['messid','time_ux'], axis=1)\n",
    "\n",
    "######################On sépare à nouveau train et test set ainsi modifié##################\n",
    "#########################################################################################\n",
    "dftrain = df_[:len(df_mess_train)]\n",
    "dftest = df_[len(df_mess_train):]"
   ]
  },
  {
   "cell_type": "markdown",
   "metadata": {},
   "source": [
    "### Machine Learning sur les distances"
   ]
  },
  {
   "cell_type": "code",
   "execution_count": 26,
   "metadata": {},
   "outputs": [],
   "source": [
    "#On ajoute la colonne dist au training set\n",
    "dftrain = dftrain.iloc[df.index].join(df[['dist']])\n",
    "\n",
    "#On prépare le modele de ML\n",
    "model = LGBMRegressor(num_leaves = 300, n_estimators=300, max_depth = 10, reg_lambda = 1)\n",
    "\n",
    "#On entraine le modèle sur toutes les données\n",
    "model.fit(dftrain.drop('dist', axis=1),dftrain['dist'])\n",
    "\n",
    "#On prédit la distance utilisé sur le testset\n",
    "ypred = model.predict(dftest)"
   ]
  },
  {
   "cell_type": "markdown",
   "metadata": {},
   "source": [
    "### Prediction des distances"
   ]
  },
  {
   "cell_type": "markdown",
   "metadata": {},
   "source": [
    "Je réutilise maintenant l'algorithme précédent pour ma prédiction."
   ]
  },
  {
   "cell_type": "code",
   "execution_count": 27,
   "metadata": {},
   "outputs": [],
   "source": [
    "df_mess_test['pred_dist'] = ypred\n",
    "mesh = 40\n",
    "mess = df_mess_test.messid.unique()\n",
    "err = []\n",
    "k=0\n",
    "for m in mess:\n",
    "    err.append(n_est(df_mess_test,m,mesh,p=0))\n",
    "        \n",
    "pred_df = pd.DataFrame(err, columns = ['messid','p_lat','p_lng'])"
   ]
  },
  {
   "cell_type": "code",
   "execution_count": 28,
   "metadata": {},
   "outputs": [],
   "source": [
    "pred_df.set_index('messid').rename(columns = {'p_lat': 'y_pred_lat','p_lng' : 'y_pred_lng'}).to_csv('predictions.csv')"
   ]
  }
 ],
 "metadata": {
  "kernelspec": {
   "display_name": "Python 3",
   "language": "python",
   "name": "python3"
  },
  "language_info": {
   "codemirror_mode": {
    "name": "ipython",
    "version": 3
   },
   "file_extension": ".py",
   "mimetype": "text/x-python",
   "name": "python",
   "nbconvert_exporter": "python",
   "pygments_lexer": "ipython3",
   "version": "3.6.8"
  }
 },
 "nbformat": 4,
 "nbformat_minor": 2
}
